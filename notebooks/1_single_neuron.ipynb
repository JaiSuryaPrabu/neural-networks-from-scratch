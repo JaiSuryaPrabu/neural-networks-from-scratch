{
 "cells": [
  {
   "metadata": {},
   "cell_type": "markdown",
   "source": [
    "# Coding the single neuron\n",
    "A single neuron needs :\n",
    "1. Input\n",
    "2. Weights\n",
    "3. Bias\n",
    "4. Activation function"
   ],
   "id": "d6831cced5a9c124"
  },
  {
   "metadata": {
    "ExecuteTime": {
     "end_time": "2025-04-09T07:51:16.618032Z",
     "start_time": "2025-04-09T07:51:16.609218Z"
    }
   },
   "cell_type": "code",
   "source": [
    "# all values are for example\n",
    "inputs = [1.0,2.0,3.0]\n",
    "weights = [0.2,0.8,-0.5]\n",
    "bias = 2.0\n",
    "\n",
    "# output = input * weights + bias\n",
    "outputs = inputs[0] * weights[0] + inputs[1] * weights[1] + inputs[2] * weights[2] + bias\n",
    "print(outputs)"
   ],
   "id": "2c031c39bfc19fb1",
   "outputs": [
    {
     "name": "stdout",
     "output_type": "stream",
     "text": [
      "2.3\n"
     ]
    }
   ],
   "execution_count": 1
  },
  {
   "metadata": {},
   "cell_type": "markdown",
   "source": "## Layer of neurons",
   "id": "2da34b1f710c0d73"
  },
  {
   "metadata": {},
   "cell_type": "markdown",
   "source": "We are implementing the fully connected neural network",
   "id": "b3aae1be5c2bfa95"
  },
  {
   "metadata": {
    "ExecuteTime": {
     "end_time": "2025-04-09T07:58:39.115387Z",
     "start_time": "2025-04-09T07:58:39.111065Z"
    }
   },
   "cell_type": "code",
   "source": [
    "# to code a layer with three neurons\n",
    "inputs = [1.0,2.0,3.0,2.5]\n",
    "weights1 = [0.2, 0.8, -0.5, 1]\n",
    "weights2 = [0.5, -0.91, 0.26, -0.5]\n",
    "weights3 = [-0.26, -0.27, 0.17, 0.87]\n",
    "bias1 = 2\n",
    "bias2 = 3\n",
    "bias3 = 0.5\n",
    "outputs = [\n",
    "    inputs[0] * weights1[0] + inputs[1] * weights1[1] + inputs[2] * weights1[2] + inputs[3] * weights1[3] + bias1, # neuron 1\n",
    "    inputs[0] * weights2[0] + inputs[1] * weights1[1] + inputs[2] * weights2[2] + inputs[3] * weights2[3] + bias2, # neuron 2\n",
    "    inputs[0] * weights3[0] + inputs[1] * weights3[1] + inputs[2] * weights3[2] + inputs[3] * weights3[3] + bias3 # neuron 3\n",
    "]\n",
    "\n",
    "print(outputs)"
   ],
   "id": "5580b351e1a79c7f",
   "outputs": [
    {
     "name": "stdout",
     "output_type": "stream",
     "text": [
      "[4.8, 4.63, 2.385]\n"
     ]
    }
   ],
   "execution_count": 3
  },
  {
   "metadata": {
    "ExecuteTime": {
     "end_time": "2025-04-09T08:26:14.928092Z",
     "start_time": "2025-04-09T08:26:14.922139Z"
    }
   },
   "cell_type": "code",
   "source": [
    "# using for loop\n",
    "inputs = [1.0,2.0,3.0,2.5]\n",
    "weights = [[0.2, 0.8, -0.5, 1],[0.5, -0.91, 0.26, -0.5],[-0.26, -0.27, 0.17, 0.87]]\n",
    "biases = [2,3,0.5]\n",
    "output_neuron = []\n",
    "\n",
    "for weight_neuron,bias in zip(weights,biases):\n",
    "    output = 0\n",
    "    for inp,weight in zip(inputs,weight_neuron):\n",
    "        output += inp * weight\n",
    "    output += bias\n",
    "    output_neuron.append(output)\n",
    "\n",
    "print(output_neuron)"
   ],
   "id": "3e6f9579d912df15",
   "outputs": [
    {
     "name": "stdout",
     "output_type": "stream",
     "text": [
      "[4.8, 1.21, 2.385]\n"
     ]
    }
   ],
   "execution_count": 5
  },
  {
   "metadata": {},
   "cell_type": "markdown",
   "source": "## Single neuron in numpy",
   "id": "4e3d64f69d2a502a"
  },
  {
   "metadata": {
    "ExecuteTime": {
     "end_time": "2025-04-09T09:33:06.975765Z",
     "start_time": "2025-04-09T09:33:06.635422Z"
    }
   },
   "cell_type": "code",
   "source": [
    "import numpy as np\n",
    "\n",
    "inputs = np.array([1.0,2.0,3.0,2.5,])\n",
    "weights = np.array([0.2, 0.8, -0.5, 1])\n",
    "bias = 2.0\n",
    "\n",
    "outputs = np.dot(inputs,weights) + bias\n",
    "print(outputs)"
   ],
   "id": "ac261885ee282b9",
   "outputs": [
    {
     "name": "stdout",
     "output_type": "stream",
     "text": [
      "4.8\n"
     ]
    }
   ],
   "execution_count": 1
  },
  {
   "metadata": {},
   "cell_type": "markdown",
   "source": "## Layer in numpy",
   "id": "936290b083348aa1"
  },
  {
   "metadata": {
    "ExecuteTime": {
     "end_time": "2025-04-09T09:36:14.000559Z",
     "start_time": "2025-04-09T09:36:13.988655Z"
    }
   },
   "cell_type": "code",
   "source": [
    "inputs = [1.0,2.0,3.0,2.5]\n",
    "weights = [[0.2, 0.8, -0.5, 1],[0.5, -0.91, 0.26, -0.5],[-0.26, -0.27, 0.17, 0.87]]\n",
    "biases = [2,3,0.5]\n",
    "outputs = np.dot(weights,inputs) + biases # weights is passed first and then inputs are passed to get the list of dot products as result\n",
    "print(outputs)"
   ],
   "id": "dd105213a80814d4",
   "outputs": [
    {
     "name": "stdout",
     "output_type": "stream",
     "text": [
      "[4.8   1.21  2.385]\n"
     ]
    }
   ],
   "execution_count": 2
  },
  {
   "metadata": {},
   "cell_type": "markdown",
   "source": "## Batches of data",
   "id": "eaf3af5fedb3bb39"
  },
  {
   "metadata": {},
   "cell_type": "markdown",
   "source": [
    "Right now we only used one sample or observation. In real world we would use multiple data so we use batches. For each value in the feature observation datum `[1.0,2.0,3.0,2.5]`, together they form a **feature set instance** and also called **observation** or a **sample**\n",
    "\n",
    "By training the model with batches provides the model to tweak the weights and bias and it will be generalized rather than being overfit."
   ],
   "id": "ef4d5284e68823f9"
  },
  {
   "metadata": {},
   "cell_type": "markdown",
   "source": "`Numpy` as no direct method for matrix multiplication we use this new concept called `transpose`.",
   "id": "cda56699acd38354"
  },
  {
   "metadata": {
    "ExecuteTime": {
     "end_time": "2025-04-09T09:55:15.933449Z",
     "start_time": "2025-04-09T09:55:15.924542Z"
    }
   },
   "cell_type": "code",
   "source": [
    "# matrix multiplication using Transpose\n",
    "a = [1,2,3]\n",
    "b = [4,5,6]\n",
    "a = np.array([a])\n",
    "b = np.array([b]).T\n",
    "\n",
    "print(np.dot(a,b))"
   ],
   "id": "ff421970b3aa78be",
   "outputs": [
    {
     "name": "stdout",
     "output_type": "stream",
     "text": [
      "[[32]]\n"
     ]
    }
   ],
   "execution_count": 6
  },
  {
   "metadata": {},
   "cell_type": "markdown",
   "source": "## Layer of neurons and batch of data with numpy",
   "id": "868534817b423b49"
  },
  {
   "metadata": {
    "ExecuteTime": {
     "end_time": "2025-04-09T09:58:41.763129Z",
     "start_time": "2025-04-09T09:58:41.750311Z"
    }
   },
   "cell_type": "code",
   "source": [
    "inputs = [[1.0,2.0,1.4,2.0],[3.0,1.2,4.1,3.2],[-2.5,2.3,6.6,5.3]]\n",
    "weights = [[0.2, 0.8, -0.5, 1],[0.5, -0.91, 0.26, -0.5],[-0.26, -0.27, 0.17, 0.87]]\n",
    "biases = [2,3,0.5]\n",
    "\n",
    "outputs = np.dot(inputs,np.array(weights).T) + biases\n",
    "print(outputs)"
   ],
   "id": "d17be002d107c2f9",
   "outputs": [
    {
     "name": "stdout",
     "output_type": "stream",
     "text": [
      "[[ 5.1    1.044  1.678]\n",
      " [ 4.71   2.874  2.877]\n",
      " [ 5.34  -1.277  6.262]]\n"
     ]
    }
   ],
   "execution_count": 7
  }
 ],
 "metadata": {
  "kernelspec": {
   "name": "python3",
   "language": "python",
   "display_name": "Python 3 (ipykernel)"
  }
 },
 "nbformat": 5,
 "nbformat_minor": 9
}
