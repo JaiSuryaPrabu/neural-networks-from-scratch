{
 "cells": [
  {
   "cell_type": "markdown",
   "id": "a7c8fecd",
   "metadata": {},
   "source": [
    "# Binary Logistic Regression"
   ]
  },
  {
   "cell_type": "markdown",
   "id": "d5f02473",
   "metadata": {},
   "source": [
    "From the previous NN, we have implemented a neural network to predict the possiblities and now we train the neural network to predict the exact class for example if it is a dog the NN will provide 1 as output and if it is cat it will predict 0 as output."
   ]
  },
  {
   "cell_type": "markdown",
   "id": "57387807",
   "metadata": {},
   "source": [
    "Changes we need to do :\n",
    "- Change the `SoftMax` to `Sigmoid` activation function at output layer\n",
    "- Change the `Categorical Crossentropy` to `Binary Crossentropy` for calculating the loss"
   ]
  },
  {
   "cell_type": "code",
   "execution_count": 1,
   "id": "5bcfa63f",
   "metadata": {},
   "outputs": [],
   "source": [
    "import numpy as np"
   ]
  },
  {
   "cell_type": "code",
   "execution_count": 2,
   "id": "411551d8",
   "metadata": {},
   "outputs": [],
   "source": [
    "# Sigmoid class\n",
    "class Activation_Sigmoid:\n",
    "    def forward(self,inputs):\n",
    "        self.inputs = inputs\n",
    "        self.output = 1 / (1 + np.exp(-self.inputs))\n",
    "    \n",
    "    def backward(self,dvalues):\n",
    "        self.dinputs = dvalues * (1-self.output) * self.output"
   ]
  },
  {
   "cell_type": "code",
   "execution_count": 15,
   "id": "aa36d8b7",
   "metadata": {},
   "outputs": [],
   "source": [
    "class Loss:\n",
    "    def regularization_loss(self,layer):\n",
    "        regularization_loss = 0\n",
    "        # Weight Loss\n",
    "        if layer.weight_regularizer_l1 > 0:\n",
    "            # sum of absolute values of weights\n",
    "            regularization_loss += layer.weight_regularizer_l1 * np.sum(np.abs(layer.weights))\n",
    "        if layer.weight_regularizer_l2 > 0:\n",
    "            # sum of squared values of weights\n",
    "            regularization_loss += layer.weight_regularizer_l2 * np.sum(layer.weights * layer.weights)\n",
    "        if layer.bias_regularizer_l1 > 0:\n",
    "            regularization_loss += layer.bias_regularizer_l1 * np.sum(np.abs(layer.biases))\n",
    "        if layer.bias_regularizer_l2 > 0:\n",
    "            regularization_loss += layer.bias_regularizer_l2 * np.sum(layer.biases * layer.biases)\n",
    "            \n",
    "        return regularization_loss\n",
    "    \n",
    "    def calculate(self,output,y):\n",
    "        sample_losses = self.forward(output,y)\n",
    "        data_loss = np.mean(sample_losses)\n",
    "        return data_loss"
   ]
  },
  {
   "cell_type": "code",
   "execution_count": 16,
   "id": "340df3e9",
   "metadata": {},
   "outputs": [],
   "source": [
    "# Binary Cross Entropy Loss\n",
    "class Loss_BinaryCrossentropy(Loss):\n",
    "    def forward(self,y_pred,y_true):\n",
    "        y_pred_clipped = np.clip(y_pred,1e-7,1 - 1e-7)\n",
    "        sample_losses = -(y_true * np.log(y_pred_clipped) + (1 - y_true) * np.log(1 - y_pred_clipped))\n",
    "        sample_losses = np.mean(sample_losses,axis=-1)\n",
    "        return sample_losses\n",
    "    \n",
    "    def backward(self,dvalues,y_true):\n",
    "        samples = len(dvalues)\n",
    "        outputs = len(dvalues[0])\n",
    "        \n",
    "        clipped_values = np.clip(dvalues,1e-7,1 - 1e-7)\n",
    "        self.dinputs = -(y_true / clipped_values - (1- y_true) / (1 - clipped_values)) / outputs\n",
    "        \n",
    "        self.dinputs = self.dinputs / samples\n",
    "        "
   ]
  },
  {
   "cell_type": "markdown",
   "id": "0eae07b4",
   "metadata": {},
   "source": [
    "## Previous code"
   ]
  },
  {
   "cell_type": "code",
   "execution_count": 8,
   "id": "3a26bda9",
   "metadata": {},
   "outputs": [],
   "source": [
    "# Dense Layer\n",
    "class Layer_Dense:\n",
    "    def __init__(self,n_inputs,n_neurons,\n",
    "                 weight_regularizer_l1 = 0,weight_regularizer_l2=0,\n",
    "                 bias_regularizer_l1 = 0, bias_regularizer_l2 = 0):\n",
    "        # init of weights and bias\n",
    "        self.weights = 0.01 * np.random.randn(n_inputs,n_neurons)\n",
    "        self.biases = np.zeros((1,n_neurons))\n",
    "        # init the regularization\n",
    "        self.weight_regularizer_l1 = weight_regularizer_l1\n",
    "        self.weight_regularizer_l2 = weight_regularizer_l2\n",
    "        self.bias_regularizer_l1 = bias_regularizer_l1\n",
    "        self.bias_regularizer_l2 = bias_regularizer_l2\n",
    "        \n",
    "        \n",
    "    def forward(self,inputs):\n",
    "        self.inputs = inputs\n",
    "        self.output = np.dot(inputs,self.weights) + self.biases\n",
    "        \n",
    "    def backward(self,dvalues):\n",
    "        # calculating gradients for parameters\n",
    "        self.dweights = np.dot(self.inputs.T,dvalues)\n",
    "        self.dbiases = np.sum(dvalues,axis=0,keepdims=True)\n",
    "        \n",
    "        # calculating gradients for regularization\n",
    "        if self.weight_regularizer_l1 > 0:\n",
    "            dL1 = np.ones_like(self.weights)\n",
    "            dL1[self.weights < 0] = -1\n",
    "            self.dweights += self.weight_regularizer_l1 * dL1\n",
    "        if self.weight_regularizer_l2 > 0:\n",
    "            self.dweights += 2 * self.weight_regularizer_l2 * self.weights\n",
    "        \n",
    "        if self.bias_regularizer_l1 > 0:\n",
    "            dL1 = np.ones_like(self.biases)\n",
    "            dL1[self.biases < 0] = -1\n",
    "            self.dbiases += self.bias_regularizer_l1 * dL1\n",
    "        if self.bias_regularizer_l2 > 0:\n",
    "            self.dbiases += 2 * self.bias_regularizer_l2 * self.biases \n",
    "            \n",
    "        # gradients on whole values\n",
    "        self.dinputs = np.dot(dvalues,self.weights.T)\n",
    " \n",
    "# RELU       \n",
    "class Activation_RELU:\n",
    "    def forward(self,inputs):\n",
    "        self.inputs = inputs\n",
    "        self.output = np.maximum(0,inputs)\n",
    "        \n",
    "    def backward(self,dvalues):\n",
    "        self.dinputs = dvalues.copy()\n",
    "        self.dinputs[self.inputs <= 0] = 0\n",
    "        \n",
    "class Optimizer_Adam:\n",
    "    def __init__(self, learning_rate=0.001, decay=0., epsilon=1e-7, beta_1=0.9, beta_2=0.999):\n",
    "        self.learning_rate = learning_rate\n",
    "        self.current_learning_rate = learning_rate\n",
    "        self.decay = decay\n",
    "        self.iterations = 0\n",
    "        self.epsilon = epsilon\n",
    "        self.beta_1 = beta_1\n",
    "        self.beta_2 = beta_2\n",
    "    \n",
    "    def pre_update_params(self):\n",
    "        if self.decay:\n",
    "            self.current_learning_rate = self.learning_rate * (1. / (1. + self.decay * self.iterations))\n",
    "    \n",
    "    def update_params(self, layer):\n",
    "        if not hasattr(layer, 'weight_cache'):\n",
    "            layer.weight_momentums = np.zeros_like(layer.weights)\n",
    "            layer.weight_cache = np.zeros_like(layer.weights)\n",
    "            layer.bias_momentums = np.zeros_like(layer.biases)\n",
    "            layer.bias_cache = np.zeros_like(layer.biases)\n",
    "        layer.weight_momentums = self.beta_1 * layer.weight_momentums + (1 - self.beta_1) * layer.dweights\n",
    "        layer.bias_momentums = self.beta_1 * layer.bias_momentums + (1 - self.beta_1) * layer.dbiases\n",
    "        weight_momentums_corrected = layer.weight_momentums / (1 - self.beta_1 ** (self.iterations + 1))\n",
    "        bias_momentums_corrected = layer.bias_momentums / (1 - self.beta_1 ** (self.iterations + 1))\n",
    "        layer.weight_cache = self.beta_2 * layer.weight_cache + (1 - self.beta_2) * layer.dweights**2\n",
    "        layer.bias_cache = self.beta_2 * layer.bias_cache + (1 - self.beta_2) * layer.dbiases**2\n",
    "        weight_cache_corrected = layer.weight_cache / (1 - self.beta_2 ** (self.iterations + 1))\n",
    "        bias_cache_corrected = layer.bias_cache / (1 - self.beta_2 ** (self.iterations + 1))\n",
    "        layer.weights += -self.current_learning_rate * weight_momentums_corrected / (np.sqrt(weight_cache_corrected) + self.epsilon)\n",
    "        layer.biases += -self.current_learning_rate * bias_momentums_corrected / (np.sqrt(bias_cache_corrected) + self.epsilon)\n",
    "    \n",
    "    def post_update_params(self):\n",
    "        self.iterations += 1 \n"
   ]
  },
  {
   "cell_type": "markdown",
   "id": "86f7e2b2",
   "metadata": {},
   "source": [
    "## Training"
   ]
  },
  {
   "cell_type": "code",
   "execution_count": 7,
   "id": "f19a4d1c",
   "metadata": {},
   "outputs": [],
   "source": [
    "from tqdm import tqdm\n",
    "import nnfs\n",
    "from nnfs.datasets import spiral_data\n",
    "\n",
    "nnfs.init()"
   ]
  },
  {
   "cell_type": "code",
   "execution_count": 25,
   "id": "00a46c4e",
   "metadata": {},
   "outputs": [],
   "source": [
    "X,y = spiral_data(samples=100,classes=2)\n",
    "y = y.reshape(-1,1) # why we are reshaping?\n",
    "\n",
    "dense1 = Layer_Dense(2,64,weight_regularizer_l1=5e-4,weight_regularizer_l2=5e-4)\n",
    "activation1 = Activation_RELU()\n",
    "dense2 = Layer_Dense(64,1)\n",
    "activation2 = Activation_Sigmoid()\n",
    "loss_function = Loss_BinaryCrossentropy()\n",
    "optimizer = Optimizer_Adam(learning_rate=0.01,decay=5e-4)\n",
    "\n",
    "epoches = []\n",
    "accuracies = []\n",
    "losses = []\n",
    "learning_rates = []"
   ]
  },
  {
   "cell_type": "code",
   "execution_count": 26,
   "id": "9e36e7b3",
   "metadata": {},
   "outputs": [
    {
     "name": "stderr",
     "output_type": "stream",
     "text": [
      "Training the model :   3%|▎         | 287/10001 [00:00<00:03, 2868.75it/s]"
     ]
    },
    {
     "name": "stdout",
     "output_type": "stream",
     "text": [
      "epoch: 0, acc: 0.470, loss: 0.694, lr: 0.01\n",
      "epoch: 100, acc: 0.600, loss: 0.673, lr: 0.009528346831824679\n",
      "epoch: 200, acc: 0.600, loss: 0.672, lr: 0.009095043201455207\n",
      "epoch: 300, acc: 0.600, loss: 0.672, lr: 0.008699434536755112\n",
      "epoch: 400, acc: 0.595, loss: 0.672, lr: 0.008336807002917883\n",
      "epoch: 500, acc: 0.600, loss: 0.672, lr: 0.008003201280512205\n"
     ]
    },
    {
     "name": "stderr",
     "output_type": "stream",
     "text": [
      "Training the model :   8%|▊         | 848/10001 [00:00<00:03, 2649.99it/s]"
     ]
    },
    {
     "name": "stdout",
     "output_type": "stream",
     "text": [
      "epoch: 600, acc: 0.600, loss: 0.672, lr: 0.007695267410542516\n",
      "epoch: 700, acc: 0.595, loss: 0.672, lr: 0.007410151908114116\n",
      "epoch: 800, acc: 0.600, loss: 0.672, lr: 0.007145409074669526\n",
      "epoch: 900, acc: 0.600, loss: 0.672, lr: 0.006898930665746809\n",
      "epoch: 1000, acc: 0.595, loss: 0.672, lr: 0.006668889629876626\n"
     ]
    },
    {
     "name": "stderr",
     "output_type": "stream",
     "text": [
      "Training the model :  14%|█▎        | 1369/10001 [00:00<00:03, 2265.40it/s]"
     ]
    },
    {
     "name": "stdout",
     "output_type": "stream",
     "text": [
      "epoch: 1100, acc: 0.600, loss: 0.672, lr: 0.006453694740238787\n",
      "epoch: 1200, acc: 0.600, loss: 0.672, lr: 0.006251953735542357\n",
      "epoch: 1300, acc: 0.600, loss: 0.672, lr: 0.006062443164595333\n",
      "epoch: 1400, acc: 0.600, loss: 0.672, lr: 0.005884083553986467\n",
      "epoch: 1500, acc: 0.595, loss: 0.672, lr: 0.0057159188339525584\n",
      "epoch: 1600, acc: 0.600, loss: 0.672, lr: 0.005557099194220616\n"
     ]
    },
    {
     "name": "stderr",
     "output_type": "stream",
     "text": [
      "Training the model :  19%|█▉        | 1919/10001 [00:00<00:03, 2509.89it/s]"
     ]
    },
    {
     "name": "stdout",
     "output_type": "stream",
     "text": [
      "epoch: 1700, acc: 0.600, loss: 0.672, lr: 0.005406866720735334\n",
      "epoch: 1800, acc: 0.600, loss: 0.672, lr: 0.0052645433008686494\n",
      "epoch: 1900, acc: 0.600, loss: 0.672, lr: 0.005129520389843549\n",
      "epoch: 2000, acc: 0.600, loss: 0.672, lr: 0.005001250312578145\n",
      "epoch: 2100, acc: 0.600, loss: 0.672, lr: 0.0048792388387411565\n"
     ]
    },
    {
     "name": "stderr",
     "output_type": "stream",
     "text": [
      "Training the model :  24%|██▍       | 2414/10001 [00:01<00:03, 2287.22it/s]"
     ]
    },
    {
     "name": "stdout",
     "output_type": "stream",
     "text": [
      "epoch: 2200, acc: 0.590, loss: 0.672, lr: 0.004763038818766373\n",
      "epoch: 2300, acc: 0.600, loss: 0.672, lr: 0.004652244708071645\n",
      "epoch: 2400, acc: 0.600, loss: 0.672, lr: 0.0045464878381450335\n",
      "epoch: 2500, acc: 0.600, loss: 0.672, lr: 0.004445432318292954\n",
      "epoch: 2600, acc: 0.600, loss: 0.672, lr: 0.004348771472059143\n"
     ]
    },
    {
     "name": "stderr",
     "output_type": "stream",
     "text": [
      "Training the model :  32%|███▏      | 3176/10001 [00:01<00:02, 2285.49it/s]"
     ]
    },
    {
     "name": "stdout",
     "output_type": "stream",
     "text": [
      "epoch: 2700, acc: 0.600, loss: 0.672, lr: 0.004256224728665673\n",
      "epoch: 2800, acc: 0.600, loss: 0.672, lr: 0.004167534903104814\n",
      "epoch: 2900, acc: 0.590, loss: 0.672, lr: 0.004082465809348847\n",
      "epoch: 3000, acc: 0.595, loss: 0.672, lr: 0.0040008001600320055\n",
      "epoch: 3100, acc: 0.600, loss: 0.672, lr: 0.003922337713277113\n",
      "epoch: 3200, acc: 0.600, loss: 0.672, lr: 0.003846893633391037\n"
     ]
    },
    {
     "name": "stderr",
     "output_type": "stream",
     "text": [
      "Training the model :  36%|███▋      | 3646/10001 [00:01<00:02, 2173.15it/s]"
     ]
    },
    {
     "name": "stdout",
     "output_type": "stream",
     "text": [
      "epoch: 3300, acc: 0.595, loss: 0.672, lr: 0.0037742970371768265\n",
      "epoch: 3400, acc: 0.600, loss: 0.672, lr: 0.003704389701796629\n",
      "epoch: 3500, acc: 0.600, loss: 0.672, lr: 0.003637024913620658\n",
      "epoch: 3600, acc: 0.600, loss: 0.672, lr: 0.003572066440435792\n",
      "epoch: 3700, acc: 0.595, loss: 0.672, lr: 0.00350938761186173\n"
     ]
    },
    {
     "name": "stderr",
     "output_type": "stream",
     "text": [
      "Training the model :  42%|████▏     | 4154/10001 [00:01<00:02, 2362.93it/s]"
     ]
    },
    {
     "name": "stdout",
     "output_type": "stream",
     "text": [
      "epoch: 3800, acc: 0.595, loss: 0.672, lr: 0.0034488704949129164\n",
      "epoch: 3900, acc: 0.600, loss: 0.672, lr: 0.003390405153415833\n",
      "epoch: 4000, acc: 0.600, loss: 0.672, lr: 0.003333888981496916\n",
      "epoch: 4100, acc: 0.600, loss: 0.672, lr: 0.003279226102639777\n",
      "epoch: 4200, acc: 0.600, loss: 0.672, lr: 0.0032263268269075657\n"
     ]
    },
    {
     "name": "stderr",
     "output_type": "stream",
     "text": [
      "Training the model :  46%|████▌     | 4613/10001 [00:02<00:02, 2114.86it/s]"
     ]
    },
    {
     "name": "stdout",
     "output_type": "stream",
     "text": [
      "epoch: 4300, acc: 0.600, loss: 0.672, lr: 0.0031751071598666455\n",
      "epoch: 4400, acc: 0.595, loss: 0.672, lr: 0.0031254883575558678\n",
      "epoch: 4500, acc: 0.595, loss: 0.672, lr: 0.00307739652254193\n",
      "epoch: 4600, acc: 0.595, loss: 0.672, lr: 0.0030307622367025306\n",
      "epoch: 4700, acc: 0.600, loss: 0.672, lr: 0.0029855202268995375\n"
     ]
    },
    {
     "name": "stderr",
     "output_type": "stream",
     "text": [
      "Training the model :  51%|█████     | 5121/10001 [00:02<00:02, 2308.14it/s]"
     ]
    },
    {
     "name": "stdout",
     "output_type": "stream",
     "text": [
      "epoch: 4800, acc: 0.600, loss: 0.672, lr: 0.0029416090601559054\n",
      "epoch: 4900, acc: 0.600, loss: 0.672, lr: 0.0028989708653428033\n",
      "epoch: 5000, acc: 0.600, loss: 0.672, lr: 0.0028575510787255324\n",
      "epoch: 5100, acc: 0.600, loss: 0.672, lr: 0.0028172982110156357\n",
      "epoch: 5200, acc: 0.600, loss: 0.672, lr: 0.0027781636338380334\n"
     ]
    },
    {
     "name": "stderr",
     "output_type": "stream",
     "text": [
      "Training the model :  56%|█████▋    | 5644/10001 [00:02<00:01, 2284.89it/s]"
     ]
    },
    {
     "name": "stdout",
     "output_type": "stream",
     "text": [
      "epoch: 5300, acc: 0.600, loss: 0.672, lr: 0.0027401013837511983\n",
      "epoch: 5400, acc: 0.595, loss: 0.672, lr: 0.0027030679821597515\n",
      "epoch: 5500, acc: 0.595, loss: 0.672, lr: 0.0026670222696359514\n",
      "epoch: 5600, acc: 0.595, loss: 0.672, lr: 0.0026319252533228057\n",
      "epoch: 5700, acc: 0.595, loss: 0.672, lr: 0.0025977399662293803\n"
     ]
    },
    {
     "name": "stderr",
     "output_type": "stream",
     "text": [
      "Training the model :  62%|██████▏   | 6164/10001 [00:02<00:01, 2323.45it/s]"
     ]
    },
    {
     "name": "stdout",
     "output_type": "stream",
     "text": [
      "epoch: 5800, acc: 0.595, loss: 0.672, lr: 0.0025644313373509426\n",
      "epoch: 5900, acc: 0.600, loss: 0.672, lr: 0.00253196607165464\n",
      "epoch: 6000, acc: 0.600, loss: 0.672, lr: 0.002500312539067383\n",
      "epoch: 6100, acc: 0.600, loss: 0.672, lr: 0.0024694406716878627\n",
      "epoch: 6200, acc: 0.600, loss: 0.672, lr: 0.0024393218685205514\n"
     ]
    },
    {
     "name": "stderr",
     "output_type": "stream",
     "text": [
      "Training the model :  67%|██████▋   | 6669/10001 [00:02<00:01, 2356.77it/s]"
     ]
    },
    {
     "name": "stdout",
     "output_type": "stream",
     "text": [
      "epoch: 6300, acc: 0.595, loss: 0.672, lr: 0.0024099289070972406\n",
      "epoch: 6400, acc: 0.600, loss: 0.672, lr: 0.0023812358614120725\n",
      "epoch: 6500, acc: 0.595, loss: 0.672, lr: 0.002353218025650076\n",
      "epoch: 6600, acc: 0.600, loss: 0.672, lr: 0.002325851843237586\n",
      "epoch: 6700, acc: 0.600, loss: 0.672, lr: 0.0022991148407862975\n"
     ]
    },
    {
     "name": "stderr",
     "output_type": "stream",
     "text": [
      "Training the model :  72%|███████▏  | 7219/10001 [00:03<00:01, 2550.73it/s]"
     ]
    },
    {
     "name": "stdout",
     "output_type": "stream",
     "text": [
      "epoch: 6800, acc: 0.595, loss: 0.672, lr: 0.0022729855665416525\n",
      "epoch: 6900, acc: 0.600, loss: 0.672, lr: 0.002247443532981234\n",
      "epoch: 7000, acc: 0.600, loss: 0.672, lr: 0.00222246916324036\n",
      "epoch: 7100, acc: 0.595, loss: 0.672, lr: 0.0021980437410704474\n",
      "epoch: 7200, acc: 0.600, loss: 0.672, lr: 0.0021741493640613113\n",
      "epoch: 7300, acc: 0.600, loss: 0.672, lr: 0.0021507688998817077\n"
     ]
    },
    {
     "name": "stderr",
     "output_type": "stream",
     "text": [
      "Training the model :  78%|███████▊  | 7807/10001 [00:03<00:00, 2751.50it/s]"
     ]
    },
    {
     "name": "stdout",
     "output_type": "stream",
     "text": [
      "epoch: 7400, acc: 0.600, loss: 0.672, lr: 0.002127885945313331\n",
      "epoch: 7500, acc: 0.600, loss: 0.672, lr: 0.0021054847878724074\n",
      "epoch: 7600, acc: 0.600, loss: 0.672, lr: 0.0020835503698301903\n",
      "epoch: 7700, acc: 0.600, loss: 0.672, lr: 0.0020620682544592226\n",
      "epoch: 7800, acc: 0.595, loss: 0.671, lr: 0.002041024594346362\n",
      "epoch: 7900, acc: 0.600, loss: 0.671, lr: 0.002020406101626427\n",
      "epoch: 8000, acc: 0.595, loss: 0.672, lr: 0.002000200020002\n"
     ]
    },
    {
     "name": "stderr",
     "output_type": "stream",
     "text": [
      "Training the model :  87%|████████▋ | 8657/10001 [00:03<00:00, 2788.73it/s]"
     ]
    },
    {
     "name": "stdout",
     "output_type": "stream",
     "text": [
      "epoch: 8100, acc: 0.600, loss: 0.671, lr: 0.0019803940984255866\n",
      "epoch: 8200, acc: 0.600, loss: 0.671, lr: 0.0019609765663300325\n",
      "epoch: 8300, acc: 0.595, loss: 0.671, lr: 0.0019419361103019711\n",
      "epoch: 8400, acc: 0.595, loss: 0.671, lr: 0.0019232618521011636\n",
      "epoch: 8500, acc: 0.595, loss: 0.671, lr: 0.0019049433279359938\n",
      "epoch: 8600, acc: 0.600, loss: 0.671, lr: 0.0018869704689121615\n"
     ]
    },
    {
     "name": "stderr",
     "output_type": "stream",
     "text": [
      "Training the model :  92%|█████████▏| 9237/10001 [00:03<00:00, 2842.28it/s]"
     ]
    },
    {
     "name": "stdout",
     "output_type": "stream",
     "text": [
      "epoch: 8700, acc: 0.600, loss: 0.671, lr: 0.001869333582577811\n",
      "epoch: 8800, acc: 0.600, loss: 0.671, lr: 0.0018520233354940275\n",
      "epoch: 8900, acc: 0.600, loss: 0.671, lr: 0.0018350307367648406\n",
      "epoch: 9000, acc: 0.595, loss: 0.671, lr: 0.0018183471224656785\n",
      "epoch: 9100, acc: 0.600, loss: 0.671, lr: 0.001801964140913596\n",
      "epoch: 9200, acc: 0.600, loss: 0.671, lr: 0.0017858737387266722\n",
      "epoch: 9300, acc: 0.595, loss: 0.671, lr: 0.0017700681476236835\n"
     ]
    },
    {
     "name": "stderr",
     "output_type": "stream",
     "text": [
      "Training the model :  98%|█████████▊| 9799/10001 [00:04<00:00, 2674.59it/s]"
     ]
    },
    {
     "name": "stdout",
     "output_type": "stream",
     "text": [
      "epoch: 9400, acc: 0.600, loss: 0.671, lr: 0.0017545398719185893\n",
      "epoch: 9500, acc: 0.600, loss: 0.671, lr: 0.0017392816766675363\n",
      "epoch: 9600, acc: 0.600, loss: 0.671, lr: 0.0017242865764290024\n",
      "epoch: 9700, acc: 0.600, loss: 0.671, lr: 0.0017095478246003932\n",
      "epoch: 9800, acc: 0.600, loss: 0.671, lr: 0.0016950589032968897\n"
     ]
    },
    {
     "name": "stderr",
     "output_type": "stream",
     "text": [
      "Training the model : 100%|██████████| 10001/10001 [00:04<00:00, 2413.74it/s]"
     ]
    },
    {
     "name": "stdout",
     "output_type": "stream",
     "text": [
      "epoch: 9900, acc: 0.600, loss: 0.671, lr: 0.0016808135137406505\n",
      "epoch: 10000, acc: 0.600, loss: 0.671, lr: 0.0016668055671305944\n"
     ]
    },
    {
     "name": "stderr",
     "output_type": "stream",
     "text": [
      "\n"
     ]
    }
   ],
   "source": [
    "# training loop\n",
    "for epoch in tqdm(range(10001),desc=\"Training the model : \"):\n",
    "    # forward pass\n",
    "    dense1.forward(X)\n",
    "    activation1.forward(dense1.output)\n",
    "    dense2.forward(activation1.output)\n",
    "    activation2.forward(dense2.output)\n",
    "    \n",
    "    # loss\n",
    "    data_loss = loss_function.calculate(activation2.output,y)\n",
    "    regularization_loss = loss_function.regularization_loss(dense1) + loss_function.regularization_loss(dense2)\n",
    "    loss = data_loss + regularization_loss\n",
    "    \n",
    "    # predictions\n",
    "    predictions = (activation2.output > 0.5) * 1\n",
    "    accuracy = np.mean(predictions==y)\n",
    "    \n",
    "    if not epoch % 100:\n",
    "        print(f'epoch: {epoch}, ' +\n",
    "              f'acc: {accuracy:.3f}, ' +\n",
    "              f'loss: {loss:.3f}, ' +\n",
    "              f'lr: {optimizer.current_learning_rate}')\n",
    "        epoches.append(epoch)\n",
    "        accuracies.append(accuracy)\n",
    "        losses.append(loss)\n",
    "        learning_rates.append(optimizer.current_learning_rate)\n",
    "        \n",
    "    # Backward Pass\n",
    "    loss_function.backward(activation2.output,y)\n",
    "    activation2.backward(loss_function.dinputs)\n",
    "    dense2.backward(activation2.dinputs)\n",
    "    activation1.backward(dense2.dinputs)\n",
    "    dense1.backward(activation1.dinputs)\n",
    "    \n",
    "    # Optimizer step\n",
    "    optimizer.pre_update_params()\n",
    "    optimizer.update_params(dense1)\n",
    "    optimizer.update_params(dense2)\n",
    "    optimizer.post_update_params()"
   ]
  },
  {
   "cell_type": "code",
   "execution_count": 27,
   "id": "fe3518c5",
   "metadata": {},
   "outputs": [
    {
     "name": "stdout",
     "output_type": "stream",
     "text": [
      "Validation acc:  0.615, loss:  0.665\n"
     ]
    }
   ],
   "source": [
    "X_test, y_test = spiral_data(samples=100, classes=2)\n",
    "y_test = y_test.reshape(-1,1)\n",
    "dense1.forward(X_test)\n",
    "activation1.forward(dense1.output)\n",
    "dense2.forward(activation1.output) \n",
    "activation2.forward(dense2.output)\n",
    "loss = loss_function.calculate(activation2.output,y_test)\n",
    "predictions = (activation2.output > 0.5) * 1\n",
    "accuracy = np.mean(predictions == y_test)\n",
    "\n",
    "print(f\"Validation acc: {accuracy : .3f}, loss: {loss : .3f}\")"
   ]
  },
  {
   "cell_type": "code",
   "execution_count": 22,
   "id": "778f8e13",
   "metadata": {},
   "outputs": [],
   "source": [
    "import matplotlib.pyplot as plt\n",
    "\n",
    "def plot_line_chart(x,y,title,x_label,y_label):\n",
    "    plt.plot(x,y)\n",
    "    plt.title(title)\n",
    "    plt.xlabel(x_label)\n",
    "    plt.ylabel(y_label)\n",
    "    plt.show()"
   ]
  },
  {
   "cell_type": "code",
   "execution_count": 28,
   "id": "5104b2de",
   "metadata": {},
   "outputs": [
    {
     "data": {
      "image/png": "[encoded data removed]",
      "text/plain": [
       "<Figure size 640x480 with 1 Axes>"
      ]
     },
     "metadata": {},
     "output_type": "display_data"
    }
   ],
   "source": [
    "x = epoches\n",
    "y = accuracies\n",
    "plot_line_chart(x,y,\"accuracy vs epoches\",\"epoches\",\"accuracy\")"
   ]
  },
  {
   "cell_type": "code",
   "execution_count": 29,
   "id": "adeffa52",
   "metadata": {},
   "outputs": [
    {
     "data": {
      "image/png": "[encoded data removed]",
      "text/plain": [
       "<Figure size 640x480 with 1 Axes>"
      ]
     },
     "metadata": {},
     "output_type": "display_data"
    }
   ],
   "source": [
    "plot_line_chart(x,losses,\"loss vs epoches\",\"epoches\",\"loss\")"
   ]
  }
 ],
 "metadata": {
  "kernelspec": {
   "display_name": ".venv",
   "language": "python",
   "name": "python3"
  },
  "language_info": {
   "codemirror_mode": {
    "name": "ipython",
    "version": 3
   },
   "file_extension": ".py",
   "mimetype": "text/x-python",
   "name": "python",
   "nbconvert_exporter": "python",
   "pygments_lexer": "ipython3",
   "version": "3.13.2"
  }
 },
 "nbformat": 4,
 "nbformat_minor": 5
}
