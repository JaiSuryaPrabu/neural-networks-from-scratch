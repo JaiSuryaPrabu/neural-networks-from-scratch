{
 "cells": [
  {
   "cell_type": "markdown",
   "id": "d6831cced5a9c124",
   "metadata": {},
   "source": [
    "# Coding the single neuron\n",
    "A single neuron needs :\n",
    "1. Input\n",
    "2. Weights\n",
    "3. Bias\n",
    "4. Activation function"
   ]
  },
  {
   "cell_type": "markdown",
   "id": "419834e1",
   "metadata": {},
   "source": [
    "The fundamental math formula in the neural network is : \n",
    "\n",
    "$\\text{Output} = \\text{Input} \\times \\text{weights} + \\text{Bias}$"
   ]
  },
  {
   "cell_type": "code",
   "execution_count": 1,
   "id": "2c031c39bfc19fb1",
   "metadata": {
    "ExecuteTime": {
     "end_time": "2025-04-09T07:51:16.618032Z",
     "start_time": "2025-04-09T07:51:16.609218Z"
    }
   },
   "outputs": [
    {
     "name": "stdout",
     "output_type": "stream",
     "text": [
      "2.3\n"
     ]
    }
   ],
   "source": [
    "inputs = [1.0,2.0,3.0]\n",
    "weights = [0.2,0.8,-0.5]\n",
    "bias = 2.0\n",
    "\n",
    "# output = input * weights + bias\n",
    "outputs = inputs[0] * weights[0] + inputs[1] * weights[1] + inputs[2] * weights[2] + bias\n",
    "print(outputs)"
   ]
  },
  {
   "cell_type": "markdown",
   "id": "2da34b1f710c0d73",
   "metadata": {},
   "source": [
    "## Layer of neurons"
   ]
  },
  {
   "cell_type": "markdown",
   "id": "b3aae1be5c2bfa95",
   "metadata": {},
   "source": [
    "We are implementing the fully connected neural network"
   ]
  },
  {
   "cell_type": "code",
   "execution_count": 3,
   "id": "5580b351e1a79c7f",
   "metadata": {
    "ExecuteTime": {
     "end_time": "2025-04-09T07:58:39.115387Z",
     "start_time": "2025-04-09T07:58:39.111065Z"
    }
   },
   "outputs": [
    {
     "name": "stdout",
     "output_type": "stream",
     "text": [
      "[4.8, 4.63, 2.385]\n"
     ]
    }
   ],
   "source": [
    "# to code a layer with three neurons\n",
    "inputs = [1.0,2.0,3.0,2.5]\n",
    "weights1 = [0.2, 0.8, -0.5, 1]\n",
    "weights2 = [0.5, -0.91, 0.26, -0.5]\n",
    "weights3 = [-0.26, -0.27, 0.17, 0.87]\n",
    "bias1 = 2\n",
    "bias2 = 3\n",
    "bias3 = 0.5\n",
    "outputs = [\n",
    "    inputs[0] * weights1[0] + inputs[1] * weights1[1] + inputs[2] * weights1[2] + inputs[3] * weights1[3] + bias1, # neuron 1\n",
    "    inputs[0] * weights2[0] + inputs[1] * weights1[1] + inputs[2] * weights2[2] + inputs[3] * weights2[3] + bias2, # neuron 2\n",
    "    inputs[0] * weights3[0] + inputs[1] * weights3[1] + inputs[2] * weights3[2] + inputs[3] * weights3[3] + bias3 # neuron 3\n",
    "]\n",
    "\n",
    "print(outputs)"
   ]
  },
  {
   "cell_type": "code",
   "execution_count": 5,
   "id": "3e6f9579d912df15",
   "metadata": {
    "ExecuteTime": {
     "end_time": "2025-04-09T08:26:14.928092Z",
     "start_time": "2025-04-09T08:26:14.922139Z"
    }
   },
   "outputs": [
    {
     "name": "stdout",
     "output_type": "stream",
     "text": [
      "[4.8, 1.21, 2.385]\n"
     ]
    }
   ],
   "source": [
    "# using for loop\n",
    "inputs = [1.0,2.0,3.0,2.5]\n",
    "weights = [[0.2, 0.8, -0.5, 1],[0.5, -0.91, 0.26, -0.5],[-0.26, -0.27, 0.17, 0.87]]\n",
    "biases = [2,3,0.5]\n",
    "output_neuron = []\n",
    "\n",
    "for weight_neuron,bias in zip(weights,biases):\n",
    "    output = 0\n",
    "    for inp,weight in zip(inputs,weight_neuron):\n",
    "        output += inp * weight\n",
    "    output += bias\n",
    "    output_neuron.append(output)\n",
    "\n",
    "print(output_neuron)"
   ]
  },
  {
   "cell_type": "markdown",
   "id": "4e3d64f69d2a502a",
   "metadata": {},
   "source": [
    "## Single neuron in numpy"
   ]
  },
  {
   "cell_type": "code",
   "execution_count": 1,
   "id": "ac261885ee282b9",
   "metadata": {
    "ExecuteTime": {
     "end_time": "2025-04-09T09:33:06.975765Z",
     "start_time": "2025-04-09T09:33:06.635422Z"
    }
   },
   "outputs": [
    {
     "name": "stdout",
     "output_type": "stream",
     "text": [
      "4.8\n"
     ]
    }
   ],
   "source": [
    "import numpy as np\n",
    "\n",
    "inputs = np.array([1.0,2.0,3.0,2.5,])\n",
    "weights = np.array([0.2, 0.8, -0.5, 1])\n",
    "bias = 2.0\n",
    "\n",
    "outputs = np.dot(inputs,weights) + bias\n",
    "print(outputs)"
   ]
  },
  {
   "cell_type": "markdown",
   "id": "936290b083348aa1",
   "metadata": {},
   "source": [
    "## Layer in numpy"
   ]
  },
  {
   "cell_type": "code",
   "execution_count": 2,
   "id": "dd105213a80814d4",
   "metadata": {
    "ExecuteTime": {
     "end_time": "2025-04-09T09:36:14.000559Z",
     "start_time": "2025-04-09T09:36:13.988655Z"
    }
   },
   "outputs": [
    {
     "name": "stdout",
     "output_type": "stream",
     "text": [
      "[4.8   1.21  2.385]\n"
     ]
    }
   ],
   "source": [
    "inputs = [1.0,2.0,3.0,2.5]\n",
    "weights = [[0.2, 0.8, -0.5, 1],[0.5, -0.91, 0.26, -0.5],[-0.26, -0.27, 0.17, 0.87]]\n",
    "biases = [2,3,0.5]\n",
    "outputs = np.dot(weights,inputs) + biases # weights is passed first and then inputs are passed to get the list of dot products as result\n",
    "print(outputs)"
   ]
  },
  {
   "cell_type": "markdown",
   "id": "eaf3af5fedb3bb39",
   "metadata": {},
   "source": [
    "## Batches of data"
   ]
  },
  {
   "cell_type": "markdown",
   "id": "ef4d5284e68823f9",
   "metadata": {},
   "source": [
    "Right now we only used one sample or observation. In real world we would use multiple data so we use batches. For each value in the feature observation datum `[1.0,2.0,3.0,2.5]`, together they form a **feature set instance** and also called **observation** or a **sample**\n",
    "\n",
    "By training the model with batches provides the model to tweak the weights and bias and it will be generalized rather than being overfit."
   ]
  },
  {
   "cell_type": "markdown",
   "id": "cda56699acd38354",
   "metadata": {},
   "source": [
    "`Numpy` as no direct method for matrix multiplication we use this new concept called `transpose`."
   ]
  },
  {
   "cell_type": "code",
   "execution_count": 6,
   "id": "ff421970b3aa78be",
   "metadata": {
    "ExecuteTime": {
     "end_time": "2025-04-09T09:55:15.933449Z",
     "start_time": "2025-04-09T09:55:15.924542Z"
    }
   },
   "outputs": [
    {
     "name": "stdout",
     "output_type": "stream",
     "text": [
      "[[32]]\n"
     ]
    }
   ],
   "source": [
    "# matrix multiplication using Transpose\n",
    "a = [1,2,3]\n",
    "b = [4,5,6]\n",
    "a = np.array([a])\n",
    "b = np.array([b]).T\n",
    "\n",
    "print(np.dot(a,b))"
   ]
  },
  {
   "cell_type": "markdown",
   "id": "868534817b423b49",
   "metadata": {},
   "source": [
    "## Layer of neurons and batch of data with numpy"
   ]
  },
  {
   "cell_type": "code",
   "execution_count": 7,
   "id": "d17be002d107c2f9",
   "metadata": {
    "ExecuteTime": {
     "end_time": "2025-04-09T09:58:41.763129Z",
     "start_time": "2025-04-09T09:58:41.750311Z"
    }
   },
   "outputs": [
    {
     "name": "stdout",
     "output_type": "stream",
     "text": [
      "[[ 5.1    1.044  1.678]\n",
      " [ 4.71   2.874  2.877]\n",
      " [ 5.34  -1.277  6.262]]\n"
     ]
    }
   ],
   "source": [
    "inputs = [[1.0,2.0,1.4,2.0],[3.0,1.2,4.1,3.2],[-2.5,2.3,6.6,5.3]]\n",
    "weights = [[0.2, 0.8, -0.5, 1],[0.5, -0.91, 0.26, -0.5],[-0.26, -0.27, 0.17, 0.87]]\n",
    "biases = [2,3,0.5]\n",
    "\n",
    "outputs = np.dot(inputs,np.array(weights).T) + biases\n",
    "print(outputs)"
   ]
  }
 ],
 "metadata": {
  "kernelspec": {
   "display_name": ".venv",
   "language": "python",
   "name": "python3"
  },
  "language_info": {
   "codemirror_mode": {
    "name": "ipython",
    "version": 3
   },
   "file_extension": ".py",
   "mimetype": "text/x-python",
   "name": "python",
   "nbconvert_exporter": "python",
   "pygments_lexer": "ipython3",
   "version": "3.13.2"
  }
 },
 "nbformat": 5,
 "nbformat_minor": 9
}
