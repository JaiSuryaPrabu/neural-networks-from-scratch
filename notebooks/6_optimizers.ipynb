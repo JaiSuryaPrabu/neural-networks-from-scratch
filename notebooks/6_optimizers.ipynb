{
 "cells": [
  {
   "cell_type": "markdown",
   "id": "642c4ad3",
   "metadata": {},
   "source": [
    "# Optimizers"
   ]
  },
  {
   "cell_type": "code",
   "execution_count": 1,
   "id": "5f572c4f",
   "metadata": {},
   "outputs": [],
   "source": [
    "import numpy as np\n",
    "from tqdm import tqdm\n",
    "import nnfs\n",
    "from nnfs.datasets import spiral_data\n",
    "\n",
    "nnfs.init()\n",
    "\n",
    "# Generate spiral dataset\n",
    "X, y = spiral_data(samples=100, classes=3)"
   ]
  },
  {
   "cell_type": "markdown",
   "id": "4c6518f7",
   "metadata": {},
   "source": [
    "## Layer and Activation classes"
   ]
  },
  {
   "cell_type": "code",
   "execution_count": 2,
   "id": "cc1a714a",
   "metadata": {},
   "outputs": [],
   "source": [
    "class Layer_Dense:\n",
    "    def __init__(self,n_inputs,n_neurons):\n",
    "        self.weights = 0.01 * np.random.randn(n_inputs,n_neurons)\n",
    "        self.biases = np.zeros((1,n_neurons))\n",
    "        \n",
    "    def forward(self,inputs):\n",
    "        self.inputs = inputs\n",
    "        self.output = np.dot(inputs,self.weights) + self.biases\n",
    "        \n",
    "    def backward(self,dvalues):\n",
    "        self.dweights = np.dot(self.inputs.T,dvalues)\n",
    "        self.dbiases = np.sum(dvalues,axis=0,keepdims=True)\n",
    "        self.dinputs = np.dot(dvalues,self.weights.T)\n",
    "        \n",
    "class Activation_RELU:\n",
    "    def forward(self,inputs):\n",
    "        self.inputs = inputs\n",
    "        self.output = np.maximum(0,inputs)\n",
    "        \n",
    "    def backward(self,dvalues):\n",
    "        self.dinputs = dvalues.copy()\n",
    "        self.dinputs[self.inputs <= 0] = 0\n",
    "        \n",
    "class Activation_Softmax:\n",
    "    def forward(self,inputs):\n",
    "        self.inputs = inputs\n",
    "        exp_values = np.exp(inputs - np.max(inputs,axis=1,keepdims=True))\n",
    "        self.output = exp_values / np.sum(exp_values,axis=1,keepdims=True)\n",
    "        \n",
    "    def backward(self,dvalues):\n",
    "        self.dinputs = np.empty_like(dvalues)\n",
    "        for index, (single_output,single_dvalues) in enumerate(zip(self.output,dvalues)):\n",
    "            single_output = single_output.reshape(-1,1)\n",
    "            jacobian_matrix = np.diagflat(single_output) - np.dot(single_output,single_output.T)\n",
    "            self.dinputs[index] = np.dot(jacobian_matrix,single_dvalues) "
   ]
  },
  {
   "cell_type": "markdown",
   "id": "a8d9fb67",
   "metadata": {},
   "source": [
    "## Loss Classes"
   ]
  },
  {
   "cell_type": "code",
   "execution_count": 3,
   "id": "39df0359",
   "metadata": {},
   "outputs": [],
   "source": [
    "class Loss:\n",
    "    def calculate(self,output,y):\n",
    "        sample_losses = self.forward(output,y)\n",
    "        data_loss = np.mean(sample_losses)\n",
    "        return data_loss\n",
    "    \n",
    "class Loss_CategoricalCrossentropy(Loss):\n",
    "    def forward(self,y_pred,y_true):\n",
    "        samples = len(y_pred)\n",
    "        y_pred_clipped = np.clip(y_pred,1e-7,1 - 1e-7)\n",
    "        if len(y_true.shape) == 1:\n",
    "            correct_confidences = y_pred_clipped[range(samples),y_true]\n",
    "        elif len(y_true.shape) == 2:\n",
    "            correct_confidences = np.sum(y_pred_clipped * y_true,axis=1)\n",
    "        negative_log_likelihoods = -np.log(correct_confidences)\n",
    "        return negative_log_likelihoods\n",
    "    \n",
    "    def backward(self,dvalues,y_true):\n",
    "        samples = len(dvalues)\n",
    "        labels = len(dvalues[0])\n",
    "        if len(y_true.shape) == 1:\n",
    "            y_true = np.eye(labels)[y_true]\n",
    "        self.dinputs = -y_true / dvalues\n",
    "        self.dinputs = self.dinputs / samples\n",
    "        \n",
    "class Activation_Softmax_Loss_CategoricalCrossentropy:\n",
    "    def __init__(self):\n",
    "        self.activation = Activation_Softmax()\n",
    "        self.loss = Loss_CategoricalCrossentropy()\n",
    "    \n",
    "    def forward(self,inputs,y_true):\n",
    "        self.activation.forward(inputs)\n",
    "        self.output = self.activation.output\n",
    "        return self.loss.calculate(self.output,y_true)\n",
    "    \n",
    "    def backward(self,dvalues,y_true):\n",
    "        samples = len(dvalues)\n",
    "        if len(y_true.shape) == 2:\n",
    "            y_true = np.argmax(y_true,axis=1)\n",
    "        self.dinputs = dvalues.copy()\n",
    "        self.dinputs[range(samples),y_true] -= 1\n",
    "        self.dinputs = self.dinputs / samples"
   ]
  },
  {
   "cell_type": "markdown",
   "id": "06c9f31f",
   "metadata": {},
   "source": [
    "## Optimizer Classes"
   ]
  },
  {
   "cell_type": "code",
   "execution_count": 4,
   "id": "44a3b3a1",
   "metadata": {},
   "outputs": [],
   "source": [
    "class Optimizer_SGD:\n",
    "    def __init__(self,learning_rate=1.,decay=0.,momentum=0.):\n",
    "        self.learning_rate = learning_rate\n",
    "        self.current_learning_rate = learning_rate\n",
    "        self.decay = decay\n",
    "        self.iterations = 0\n",
    "        self.momentum = momentum\n",
    "        \n",
    "    def pre_update_params(self):\n",
    "        if self.decay:\n",
    "            self.current_learning_rate = self.learning_rate * (1. / (1. + self.decay * self.iterations))\n",
    "    \n",
    "    def update_params(self,layer):\n",
    "        if self.momentum:\n",
    "            if not hasattr(layer,'weight_momentums'):\n",
    "                layer.weight_momentums = np.zeros_like(layer.weights)\n",
    "                layer.bias_momentums = np.zeros_like(layer.biases)\n",
    "            # past - future direction\n",
    "            weight_updates = self.momentum * layer.weight_momentums - self.current_learning_rate * layer.dweights\n",
    "            layer.weight_momentums = weight_updates\n",
    "            bias_updates = self.momentum * layer.bias_momentums - self.current_learning_rate * layer.dbiases\n",
    "            layer.bias_momentums = bias_updates\n",
    "        else:\n",
    "            weight_updates = -self.current_learning_rate * layer.dweights\n",
    "            bias_updates = -self.current_learning_rate * layer.dbiases\n",
    "        layer.weights += weight_updates\n",
    "        layer.biases += bias_updates\n",
    "    \n",
    "    def post_update_params(self):\n",
    "        self.iterations += 1  \n"
   ]
  },
  {
   "cell_type": "code",
   "execution_count": 5,
   "id": "eba39e99",
   "metadata": {},
   "outputs": [],
   "source": [
    "class Optimizer_Adagrad:\n",
    "    def __init__(self,learning_rate=1.,decay=0.,epsilon=1e-7):\n",
    "        self.learning_rate = learning_rate\n",
    "        self.current_learning_rate = learning_rate\n",
    "        self.decay = decay\n",
    "        self.iterations = 0\n",
    "        self.epsilon = epsilon\n",
    "        \n",
    "    def pre_update_params(self):\n",
    "        if self.decay:\n",
    "            self.current_learning_rate = self.learning_rate * (1. / (1. + self.decay * self.iterations))\n",
    "            \n",
    "    def update_params(self,layer):\n",
    "        if not hasattr(layer,'weight_cache'):\n",
    "            layer.weight_cache = np.zeros_like(layer.weights)\n",
    "            layer.bias_cache = np.zeros_like(layer.biases)\n",
    "        layer.weight_cache += layer.dweights**2\n",
    "        layer.bias_cache += layer.dbiases**2\n",
    "        layer.weights += -self.current_learning_rate * layer.dweights / (np.sqrt(layer.weight_cache) + self.epsilon)\n",
    "        layer.biases += -self.current_learning_rate * layer.dbiases / np.sqrt(layer.bias_cache) + self.epsilon\n",
    "    \n",
    "    def post_update_params(self):\n",
    "        self.iterations += 1"
   ]
  },
  {
   "cell_type": "code",
   "execution_count": 6,
   "id": "14cebc7c",
   "metadata": {},
   "outputs": [],
   "source": [
    "class Optimizer_RMSprop:\n",
    "    def __init__(self,learning_rate=0.001,decay=0.,epsilon=1e-7,rho=0.9):\n",
    "        self.learning_rate = learning_rate\n",
    "        self.current_learning_rate = learning_rate\n",
    "        self.decay = decay\n",
    "        self.iterations = 0\n",
    "        self.epsilon = epsilon\n",
    "        self.rho = rho\n",
    "        \n",
    "    def pre_update_params(self):\n",
    "        if self.decay:\n",
    "            self.current_learning_rate = self.learning_rate * (1. / (1. + self.decay * self.iterations))\n",
    "            \n",
    "    def update_params(self,layer):\n",
    "        if not hasattr(layer,'weight_cache'):\n",
    "            layer.weight_cache = np.zeros_like(layer.weights)\n",
    "            layer.bias_cache = np.zeros_like(layer.biases)\n",
    "        layer.weight_cache = self.rho * layer.weight_cache + (1 - self.rho) * layer.dweights ** 2\n",
    "        layer.bias_cache = self.rho * layer.bias_cache + ( 1 - self.rho) * layer.dbiases ** 2\n",
    "        layer.weights += -self.current_learning_rate * layer.dweights / (np.sqrt(layer.weight_cache) + self.epsilon)\n",
    "        layer.biases += -self.current_learning_rate * layer.dbiases / (np.sqrt(layer.bias_cache) + self.epsilon)\n",
    "        \n",
    "    def post_update_params(self):\n",
    "        self.iterations += 1"
   ]
  },
  {
   "cell_type": "code",
   "execution_count": 7,
   "id": "05c647f0",
   "metadata": {},
   "outputs": [],
   "source": [
    "class Optimizer_Adam:\n",
    "    def __init__(self, learning_rate=0.001, decay=0., epsilon=1e-7, beta_1=0.9, beta_2=0.999):\n",
    "        self.learning_rate = learning_rate\n",
    "        self.current_learning_rate = learning_rate\n",
    "        self.decay = decay\n",
    "        self.iterations = 0\n",
    "        self.epsilon = epsilon\n",
    "        self.beta_1 = beta_1\n",
    "        self.beta_2 = beta_2\n",
    "    \n",
    "    def pre_update_params(self):\n",
    "        if self.decay:\n",
    "            self.current_learning_rate = self.learning_rate * (1. / (1. + self.decay * self.iterations))\n",
    "    \n",
    "    def update_params(self, layer):\n",
    "        if not hasattr(layer, 'weight_cache'):\n",
    "            layer.weight_momentums = np.zeros_like(layer.weights)\n",
    "            layer.weight_cache = np.zeros_like(layer.weights)\n",
    "            layer.bias_momentums = np.zeros_like(layer.biases)\n",
    "            layer.bias_cache = np.zeros_like(layer.biases)\n",
    "        layer.weight_momentums = self.beta_1 * layer.weight_momentums + (1 - self.beta_1) * layer.dweights\n",
    "        layer.bias_momentums = self.beta_1 * layer.bias_momentums + (1 - self.beta_1) * layer.dbiases\n",
    "        weight_momentums_corrected = layer.weight_momentums / (1 - self.beta_1 ** (self.iterations + 1))\n",
    "        bias_momentums_corrected = layer.bias_momentums / (1 - self.beta_1 ** (self.iterations + 1))\n",
    "        layer.weight_cache = self.beta_2 * layer.weight_cache + (1 - self.beta_2) * layer.dweights**2\n",
    "        layer.bias_cache = self.beta_2 * layer.bias_cache + (1 - self.beta_2) * layer.dbiases**2\n",
    "        weight_cache_corrected = layer.weight_cache / (1 - self.beta_2 ** (self.iterations + 1))\n",
    "        bias_cache_corrected = layer.bias_cache / (1 - self.beta_2 ** (self.iterations + 1))\n",
    "        layer.weights += -self.current_learning_rate * weight_momentums_corrected / (np.sqrt(weight_cache_corrected) + self.epsilon)\n",
    "        layer.biases += -self.current_learning_rate * bias_momentums_corrected / (np.sqrt(bias_cache_corrected) + self.epsilon)\n",
    "    \n",
    "    def post_update_params(self):\n",
    "        self.iterations += 1"
   ]
  },
  {
   "cell_type": "markdown",
   "id": "3f7d50a5",
   "metadata": {},
   "source": [
    "## Model Training"
   ]
  },
  {
   "cell_type": "code",
   "execution_count": 9,
   "id": "f466d588",
   "metadata": {},
   "outputs": [
    {
     "name": "stderr",
     "output_type": "stream",
     "text": [
      "Training the model:   3%|▎         | 170/5001 [00:00<00:02, 1692.82it/s]"
     ]
    },
    {
     "name": "stdout",
     "output_type": "stream",
     "text": [
      "epoch: 0, acc: 0.410, loss: 1.099, lr: 0.05\n",
      "epoch: 100, acc: 0.757, loss: 0.649, lr: 0.04999752512250644\n",
      "epoch: 200, acc: 0.827, loss: 0.466, lr: 0.04999502549496326\n",
      "epoch: 300, acc: 0.853, loss: 0.374, lr: 0.049992526117345455\n"
     ]
    },
    {
     "name": "stderr",
     "output_type": "stream",
     "text": [
      "Training the model:  13%|█▎        | 675/5001 [00:00<00:02, 1606.78it/s]"
     ]
    },
    {
     "name": "stdout",
     "output_type": "stream",
     "text": [
      "epoch: 400, acc: 0.870, loss: 0.316, lr: 0.04999002698961558\n",
      "epoch: 500, acc: 0.870, loss: 0.288, lr: 0.049987528111736124\n",
      "epoch: 600, acc: 0.913, loss: 0.252, lr: 0.049985029483669646\n",
      "epoch: 700, acc: 0.910, loss: 0.236, lr: 0.049982531105378675\n"
     ]
    },
    {
     "name": "stderr",
     "output_type": "stream",
     "text": [
      "Training the model:  21%|██        | 1032/5001 [00:00<00:02, 1628.81it/s]"
     ]
    },
    {
     "name": "stdout",
     "output_type": "stream",
     "text": [
      "epoch: 800, acc: 0.927, loss: 0.222, lr: 0.04998003297682575\n",
      "epoch: 900, acc: 0.917, loss: 0.207, lr: 0.049977535097973466\n",
      "epoch: 1000, acc: 0.940, loss: 0.195, lr: 0.049975037468784345\n",
      "epoch: 1100, acc: 0.937, loss: 0.185, lr: 0.049972540089220974\n"
     ]
    },
    {
     "name": "stderr",
     "output_type": "stream",
     "text": [
      "Training the model:  28%|██▊       | 1384/5001 [00:00<00:02, 1695.96it/s]"
     ]
    },
    {
     "name": "stdout",
     "output_type": "stream",
     "text": [
      "epoch: 1200, acc: 0.820, loss: 0.526, lr: 0.04997004295924593\n",
      "epoch: 1300, acc: 0.937, loss: 0.175, lr: 0.04996754607882181\n",
      "epoch: 1400, acc: 0.947, loss: 0.170, lr: 0.049965049447911185\n",
      "epoch: 1500, acc: 0.947, loss: 0.166, lr: 0.04996255306647668\n"
     ]
    },
    {
     "name": "stderr",
     "output_type": "stream",
     "text": [
      "Training the model:  37%|███▋      | 1867/5001 [00:01<00:02, 1521.28it/s]"
     ]
    },
    {
     "name": "stdout",
     "output_type": "stream",
     "text": [
      "epoch: 1600, acc: 0.947, loss: 0.163, lr: 0.049960056934480884\n",
      "epoch: 1700, acc: 0.947, loss: 0.160, lr: 0.04995756105188642\n",
      "epoch: 1800, acc: 0.947, loss: 0.157, lr: 0.049955065418655915\n",
      "epoch: 1900, acc: 0.947, loss: 0.154, lr: 0.04995257003475201\n"
     ]
    },
    {
     "name": "stderr",
     "output_type": "stream",
     "text": [
      "Training the model:  44%|████▍     | 2204/5001 [00:01<00:01, 1592.71it/s]"
     ]
    },
    {
     "name": "stdout",
     "output_type": "stream",
     "text": [
      "epoch: 2000, acc: 0.950, loss: 0.151, lr: 0.04995007490013731\n",
      "epoch: 2100, acc: 0.950, loss: 0.148, lr: 0.0499475800147745\n",
      "epoch: 2200, acc: 0.947, loss: 0.145, lr: 0.0499450853786262\n",
      "epoch: 2300, acc: 0.947, loss: 0.142, lr: 0.0499425909916551\n"
     ]
    },
    {
     "name": "stderr",
     "output_type": "stream",
     "text": [
      "Training the model:  51%|█████     | 2546/5001 [00:01<00:01, 1570.77it/s]"
     ]
    },
    {
     "name": "stdout",
     "output_type": "stream",
     "text": [
      "epoch: 2400, acc: 0.950, loss: 0.140, lr: 0.04994009685382384\n",
      "epoch: 2500, acc: 0.950, loss: 0.137, lr: 0.04993760296509512\n",
      "epoch: 2600, acc: 0.950, loss: 0.134, lr: 0.049935109325431604\n"
     ]
    },
    {
     "name": "stderr",
     "output_type": "stream",
     "text": [
      "Training the model:  57%|█████▋    | 2858/5001 [00:01<00:01, 1503.83it/s]"
     ]
    },
    {
     "name": "stdout",
     "output_type": "stream",
     "text": [
      "epoch: 2700, acc: 0.950, loss: 0.132, lr: 0.049932615934796004\n",
      "epoch: 2800, acc: 0.953, loss: 0.130, lr: 0.04993012279315098\n",
      "epoch: 2900, acc: 0.957, loss: 0.128, lr: 0.049927629900459285\n"
     ]
    },
    {
     "name": "stderr",
     "output_type": "stream",
     "text": [
      "Training the model:  63%|██████▎   | 3152/5001 [00:02<00:01, 1217.29it/s]"
     ]
    },
    {
     "name": "stdout",
     "output_type": "stream",
     "text": [
      "epoch: 3000, acc: 0.957, loss: 0.126, lr: 0.049925137256683606\n",
      "epoch: 3100, acc: 0.957, loss: 0.124, lr: 0.04992264486178666\n"
     ]
    },
    {
     "name": "stderr",
     "output_type": "stream",
     "text": [
      "Training the model:  69%|██████▉   | 3472/5001 [00:02<00:01, 1357.06it/s]"
     ]
    },
    {
     "name": "stdout",
     "output_type": "stream",
     "text": [
      "epoch: 3200, acc: 0.953, loss: 0.133, lr: 0.04992015271573119\n",
      "epoch: 3300, acc: 0.953, loss: 0.123, lr: 0.04991766081847992\n",
      "epoch: 3400, acc: 0.957, loss: 0.121, lr: 0.049915169169995596\n",
      "epoch: 3500, acc: 0.960, loss: 0.120, lr: 0.049912677770240964\n"
     ]
    },
    {
     "name": "stderr",
     "output_type": "stream",
     "text": [
      "Training the model:  76%|███████▋  | 3814/5001 [00:02<00:00, 1508.08it/s]"
     ]
    },
    {
     "name": "stdout",
     "output_type": "stream",
     "text": [
      "epoch: 3600, acc: 0.960, loss: 0.118, lr: 0.049910186619178794\n",
      "epoch: 3700, acc: 0.960, loss: 0.117, lr: 0.04990769571677183\n",
      "epoch: 3800, acc: 0.960, loss: 0.115, lr: 0.04990520506298287\n",
      "epoch: 3900, acc: 0.960, loss: 0.114, lr: 0.04990271465777467\n"
     ]
    },
    {
     "name": "stderr",
     "output_type": "stream",
     "text": [
      "Training the model:  86%|████████▋ | 4322/5001 [00:02<00:00, 1615.49it/s]"
     ]
    },
    {
     "name": "stdout",
     "output_type": "stream",
     "text": [
      "epoch: 4000, acc: 0.963, loss: 0.112, lr: 0.049900224501110035\n",
      "epoch: 4100, acc: 0.967, loss: 0.111, lr: 0.04989773459295174\n",
      "epoch: 4200, acc: 0.820, loss: 0.579, lr: 0.04989524493326262\n",
      "epoch: 4300, acc: 0.953, loss: 0.113, lr: 0.04989275552200545\n"
     ]
    },
    {
     "name": "stderr",
     "output_type": "stream",
     "text": [
      "Training the model:  93%|█████████▎| 4648/5001 [00:03<00:00, 1420.14it/s]"
     ]
    },
    {
     "name": "stdout",
     "output_type": "stream",
     "text": [
      "epoch: 4400, acc: 0.953, loss: 0.111, lr: 0.04989026635914307\n",
      "epoch: 4500, acc: 0.957, loss: 0.109, lr: 0.04988777744463829\n",
      "epoch: 4600, acc: 0.960, loss: 0.108, lr: 0.049885288778453954\n"
     ]
    },
    {
     "name": "stderr",
     "output_type": "stream",
     "text": [
      "Training the model: 100%|██████████| 5001/5001 [00:03<00:00, 1504.37it/s]"
     ]
    },
    {
     "name": "stdout",
     "output_type": "stream",
     "text": [
      "epoch: 4700, acc: 0.963, loss: 0.107, lr: 0.049882800360552884\n",
      "epoch: 4800, acc: 0.963, loss: 0.106, lr: 0.04988031219089794\n",
      "epoch: 4900, acc: 0.963, loss: 0.105, lr: 0.049877824269451976\n",
      "epoch: 5000, acc: 0.963, loss: 0.104, lr: 0.04987533659617785\n"
     ]
    },
    {
     "name": "stderr",
     "output_type": "stream",
     "text": [
      "\n"
     ]
    }
   ],
   "source": [
    "dense1 = Layer_Dense(2, 64)\n",
    "activation1 = Activation_RELU()\n",
    "dense2 = Layer_Dense(64, 3)\n",
    "loss_activation = Activation_Softmax_Loss_CategoricalCrossentropy()\n",
    "optimizer = Optimizer_Adam(learning_rate=0.05, decay=5e-7)\n",
    "epoches = []\n",
    "accuracies = []\n",
    "losses = []\n",
    "learning_rates = []\n",
    "\n",
    "# Training loop\n",
    "for epoch in tqdm(range(5001),desc=\"Training the model\"):\n",
    "    # Forward pass\n",
    "    dense1.forward(X)\n",
    "    activation1.forward(dense1.output)\n",
    "    dense2.forward(activation1.output)\n",
    "    loss = loss_activation.forward(dense2.output, y)\n",
    "    \n",
    "    # Calculate accuracy\n",
    "    predictions = np.argmax(loss_activation.output, axis=1)\n",
    "    if len(y.shape) == 2:\n",
    "        y = np.argmax(y, axis=1)\n",
    "    accuracy = np.mean(predictions == y)\n",
    "    \n",
    "    # Print progress every 100 epochs\n",
    "    if not epoch % 100:\n",
    "        print(f'epoch: {epoch}, ' +\n",
    "              f'acc: {accuracy:.3f}, ' +\n",
    "              f'loss: {loss:.3f}, ' +\n",
    "              f'lr: {optimizer.current_learning_rate}')\n",
    "        epoches.append(epoch)\n",
    "        accuracies.append(accuracy)\n",
    "        losses.append(loss)\n",
    "        learning_rates.append(optimizer.current_learning_rate)\n",
    "    \n",
    "    # Backward pass\n",
    "    loss_activation.backward(loss_activation.output, y)\n",
    "    dense2.backward(loss_activation.dinputs)\n",
    "    activation1.backward(dense2.dinputs)\n",
    "    dense1.backward(activation1.dinputs)\n",
    "    \n",
    "    # Update parameters\n",
    "    optimizer.pre_update_params()\n",
    "    optimizer.update_params(dense1)\n",
    "    optimizer.update_params(dense2)\n",
    "    optimizer.post_update_params()"
   ]
  },
  {
   "cell_type": "code",
   "execution_count": 10,
   "id": "769776ca",
   "metadata": {},
   "outputs": [
    {
     "data": {
      "image/png": "[encoded data removed]",
      "text/plain": [
       "<Figure size 640x480 with 1 Axes>"
      ]
     },
     "metadata": {},
     "output_type": "display_data"
    }
   ],
   "source": [
    "import matplotlib.pyplot as plt\n",
    "\n",
    "def plot_line_chart(x,y,title,x_label,y_label):\n",
    "    plt.plot(x,y)\n",
    "    plt.title(title)\n",
    "    plt.xlabel(x_label)\n",
    "    plt.ylabel(y_label)\n",
    "    plt.show()\n",
    "\n",
    "x = epoches\n",
    "y = accuracies\n",
    "plot_line_chart(x,y,\"accuracy vs epoches\",\"epoches\",\"accuracy\")"
   ]
  },
  {
   "cell_type": "code",
   "execution_count": 11,
   "id": "c5d8c327",
   "metadata": {},
   "outputs": [
    {
     "data": {
      "image/png": "[encoded data removed]",
      "text/plain": [
       "<Figure size 640x480 with 1 Axes>"
      ]
     },
     "metadata": {},
     "output_type": "display_data"
    }
   ],
   "source": [
    "y = losses\n",
    "plot_line_chart(x,y,\"loss vs epoches\",\"epoches\",\"loss\")"
   ]
  },
  {
   "cell_type": "code",
   "execution_count": 12,
   "id": "609f52af",
   "metadata": {},
   "outputs": [
    {
     "data": {
      "image/png": "[encoded data removed]",
      "text/plain": [
       "<Figure size 640x480 with 1 Axes>"
      ]
     },
     "metadata": {},
     "output_type": "display_data"
    }
   ],
   "source": [
    "y = learning_rates\n",
    "plot_line_chart(x,y,\"learning rate vs epoches\",\"epoches\",\"learning rate\")"
   ]
  }
 ],
 "metadata": {
  "kernelspec": {
   "display_name": ".venv",
   "language": "python",
   "name": "python3"
  },
  "language_info": {
   "codemirror_mode": {
    "name": "ipython",
    "version": 3
   },
   "file_extension": ".py",
   "mimetype": "text/x-python",
   "name": "python",
   "nbconvert_exporter": "python",
   "pygments_lexer": "ipython3",
   "version": "3.13.2"
  }
 },
 "nbformat": 4,
 "nbformat_minor": 5
}
